{
 "cells": [
  {
   "cell_type": "code",
   "execution_count": 10,
   "id": "d00a06f4",
   "metadata": {},
   "outputs": [],
   "source": [
    "import numpy as np\n",
    "import pandas as pd\n",
    "import matplotlib.pyplot as plt\n",
    "import re\n",
    "import networkx as nx\n"
   ]
  },
  {
   "cell_type": "code",
   "execution_count": 2,
   "id": "32531f1c",
   "metadata": {},
   "outputs": [
    {
     "data": {
      "text/html": [
       "<div>\n",
       "<style scoped>\n",
       "    .dataframe tbody tr th:only-of-type {\n",
       "        vertical-align: middle;\n",
       "    }\n",
       "\n",
       "    .dataframe tbody tr th {\n",
       "        vertical-align: top;\n",
       "    }\n",
       "\n",
       "    .dataframe thead th {\n",
       "        text-align: right;\n",
       "    }\n",
       "</style>\n",
       "<table border=\"1\" class=\"dataframe\">\n",
       "  <thead>\n",
       "    <tr style=\"text-align: right;\">\n",
       "      <th></th>\n",
       "      <th>Chapter</th>\n",
       "      <th>POV</th>\n",
       "      <th>Summary</th>\n",
       "    </tr>\n",
       "  </thead>\n",
       "  <tbody>\n",
       "    <tr>\n",
       "      <th>0</th>\n",
       "      <td>1</td>\n",
       "      <td>Cenn</td>\n",
       "      <td>Cenn, a new recruit in Brightlord Meridas Amar...</td>\n",
       "    </tr>\n",
       "    <tr>\n",
       "      <th>1</th>\n",
       "      <td>2</td>\n",
       "      <td>Kaladin</td>\n",
       "      <td>Kaladin is now a slave in a caravan, waiting t...</td>\n",
       "    </tr>\n",
       "    <tr>\n",
       "      <th>2</th>\n",
       "      <td>3</td>\n",
       "      <td>Shallan</td>\n",
       "      <td>Shallan Davar has just arrived in Kharbranth, ...</td>\n",
       "    </tr>\n",
       "    <tr>\n",
       "      <th>3</th>\n",
       "      <td>4</td>\n",
       "      <td>Kaladin</td>\n",
       "      <td>Kaladin is sitting in the slave wagon, waiting...</td>\n",
       "    </tr>\n",
       "    <tr>\n",
       "      <th>4</th>\n",
       "      <td>5</td>\n",
       "      <td>Shallan</td>\n",
       "      <td>As Shallan meets Jasnah Kholin for the first t...</td>\n",
       "    </tr>\n",
       "  </tbody>\n",
       "</table>\n",
       "</div>"
      ],
      "text/plain": [
       "   Chapter      POV                                            Summary\n",
       "0        1     Cenn  Cenn, a new recruit in Brightlord Meridas Amar...\n",
       "1        2  Kaladin  Kaladin is now a slave in a caravan, waiting t...\n",
       "2        3  Shallan  Shallan Davar has just arrived in Kharbranth, ...\n",
       "3        4  Kaladin  Kaladin is sitting in the slave wagon, waiting...\n",
       "4        5  Shallan  As Shallan meets Jasnah Kholin for the first t..."
      ]
     },
     "execution_count": 2,
     "metadata": {},
     "output_type": "execute_result"
    }
   ],
   "source": [
    "df = pd.read_csv('TWoK_chapter_summaries.csv',\n",
    "                 encoding='ISO-8859-1', \n",
    "                 quotechar='\"',\n",
    "                 delimiter=',',\n",
    "                 skip_blank_lines=True,\n",
    "                 engine='python',\n",
    "                 )\n",
    "df.head()"
   ]
  },
  {
   "cell_type": "code",
   "execution_count": 3,
   "id": "af34aeb0",
   "metadata": {},
   "outputs": [],
   "source": [
    "def clean_text(text):\n",
    "    if pd.isnull(text):\n",
    "        return \"\"\n",
    "    text = text.lower().replace('\\n', ' ')\n",
    "    text = text.replace('’', \"'\").replace(\n",
    "        '“', '\"').replace('”', '\"').replace('—', '-')\n",
    "    text = re.sub(r\"[^a-z0-9\\s]\", \"\", text)\n",
    "    text = re.sub(r\"\\s+\", \" \", text).strip()\n",
    "    return text\n",
    "\n",
    "\n",
    "df['Clean_Summary'] = df['Summary'].apply(clean_text)"
   ]
  },
  {
   "cell_type": "code",
   "execution_count": 4,
   "id": "132514ae",
   "metadata": {},
   "outputs": [],
   "source": [
    "characters = ['kaladin', 'shallan', 'dalinar', 'adolin', 'navani', 'jasnah',\n",
    "              'syl', 'renarin', 'szeth', 'moash', 'rock', 'teft', 'lift', 'cenn']\n",
    "\n",
    "mention_count = {char: df['Clean_Summary'].str.count(\n",
    "    r'\\b' + char + r'\\b').sum() for char in characters}"
   ]
  },
  {
   "cell_type": "code",
   "execution_count": 5,
   "id": "b7e244d5",
   "metadata": {},
   "outputs": [
    {
     "data": {
      "text/html": [
       "<div>\n",
       "<style scoped>\n",
       "    .dataframe tbody tr th:only-of-type {\n",
       "        vertical-align: middle;\n",
       "    }\n",
       "\n",
       "    .dataframe tbody tr th {\n",
       "        vertical-align: top;\n",
       "    }\n",
       "\n",
       "    .dataframe thead th {\n",
       "        text-align: right;\n",
       "    }\n",
       "</style>\n",
       "<table border=\"1\" class=\"dataframe\">\n",
       "  <thead>\n",
       "    <tr style=\"text-align: right;\">\n",
       "      <th></th>\n",
       "      <th>Mentions</th>\n",
       "    </tr>\n",
       "  </thead>\n",
       "  <tbody>\n",
       "    <tr>\n",
       "      <th>kaladin</th>\n",
       "      <td>26</td>\n",
       "    </tr>\n",
       "    <tr>\n",
       "      <th>shallan</th>\n",
       "      <td>18</td>\n",
       "    </tr>\n",
       "    <tr>\n",
       "      <th>jasnah</th>\n",
       "      <td>13</td>\n",
       "    </tr>\n",
       "    <tr>\n",
       "      <th>cenn</th>\n",
       "      <td>6</td>\n",
       "    </tr>\n",
       "    <tr>\n",
       "      <th>adolin</th>\n",
       "      <td>0</td>\n",
       "    </tr>\n",
       "    <tr>\n",
       "      <th>dalinar</th>\n",
       "      <td>0</td>\n",
       "    </tr>\n",
       "    <tr>\n",
       "      <th>navani</th>\n",
       "      <td>0</td>\n",
       "    </tr>\n",
       "    <tr>\n",
       "      <th>syl</th>\n",
       "      <td>0</td>\n",
       "    </tr>\n",
       "    <tr>\n",
       "      <th>szeth</th>\n",
       "      <td>0</td>\n",
       "    </tr>\n",
       "    <tr>\n",
       "      <th>renarin</th>\n",
       "      <td>0</td>\n",
       "    </tr>\n",
       "    <tr>\n",
       "      <th>moash</th>\n",
       "      <td>0</td>\n",
       "    </tr>\n",
       "    <tr>\n",
       "      <th>rock</th>\n",
       "      <td>0</td>\n",
       "    </tr>\n",
       "    <tr>\n",
       "      <th>teft</th>\n",
       "      <td>0</td>\n",
       "    </tr>\n",
       "    <tr>\n",
       "      <th>lift</th>\n",
       "      <td>0</td>\n",
       "    </tr>\n",
       "  </tbody>\n",
       "</table>\n",
       "</div>"
      ],
      "text/plain": [
       "         Mentions\n",
       "kaladin        26\n",
       "shallan        18\n",
       "jasnah         13\n",
       "cenn            6\n",
       "adolin          0\n",
       "dalinar         0\n",
       "navani          0\n",
       "syl             0\n",
       "szeth           0\n",
       "renarin         0\n",
       "moash           0\n",
       "rock            0\n",
       "teft            0\n",
       "lift            0"
      ]
     },
     "execution_count": 5,
     "metadata": {},
     "output_type": "execute_result"
    }
   ],
   "source": [
    "mention_df = pd.DataFrame.from_dict(mention_count, orient='index', columns = ['Mentions'])\n",
    "mention_df = mention_df.sort_values(by='Mentions', ascending=False)\n",
    "mention_df"
   ]
  },
  {
   "cell_type": "code",
   "execution_count": 6,
   "id": "572293ac",
   "metadata": {},
   "outputs": [
    {
     "data": {
      "image/png": "[encoded data removed]",
      "text/plain": [
       "<Figure size 640x480 with 1 Axes>"
      ]
     },
     "metadata": {},
     "output_type": "display_data"
    }
   ],
   "source": [
    "#character frequency plot\n",
    "plt.Figure(figsize=(10, 6))\n",
    "plt.bar(mention_df.index, mention_df['Mentions'])\n",
    "plt.title(\n",
    "    'Character Mention Frequency in Coppermind Chapter Summaries (chapters 1-5)')\n",
    "plt.xlabel('Character')\n",
    "plt.ylabel('Number of Mentions')\n",
    "plt.xticks(rotation=45)\n",
    "plt.tight_layout()\n",
    "plt.grid(axis='y', linestyle='--', alpha=0.7)\n",
    "plt.show()"
   ]
  },
  {
   "cell_type": "code",
   "execution_count": 8,
   "id": "9e18a276",
   "metadata": {},
   "outputs": [
    {
     "name": "stdout",
     "output_type": "stream",
     "text": [
      "         kaladin  shallan  dalinar  adolin  navani  jasnah  syl  renarin  \\\n",
      "kaladin        0        0        0       0       0       0    0        0   \n",
      "shallan        0        0        0       0       0       2    0        0   \n",
      "dalinar        0        0        0       0       0       0    0        0   \n",
      "adolin         0        0        0       0       0       0    0        0   \n",
      "navani         0        0        0       0       0       0    0        0   \n",
      "jasnah         0        2        0       0       0       0    0        0   \n",
      "syl            0        0        0       0       0       0    0        0   \n",
      "renarin        0        0        0       0       0       0    0        0   \n",
      "szeth          0        0        0       0       0       0    0        0   \n",
      "moash          0        0        0       0       0       0    0        0   \n",
      "rock           0        0        0       0       0       0    0        0   \n",
      "teft           0        0        0       0       0       0    0        0   \n",
      "lift           0        0        0       0       0       0    0        0   \n",
      "cenn           1        0        0       0       0       0    0        0   \n",
      "\n",
      "         szeth  moash  rock  teft  lift  cenn  \n",
      "kaladin      0      0     0     0     0     1  \n",
      "shallan      0      0     0     0     0     0  \n",
      "dalinar      0      0     0     0     0     0  \n",
      "adolin       0      0     0     0     0     0  \n",
      "navani       0      0     0     0     0     0  \n",
      "jasnah       0      0     0     0     0     0  \n",
      "syl          0      0     0     0     0     0  \n",
      "renarin      0      0     0     0     0     0  \n",
      "szeth        0      0     0     0     0     0  \n",
      "moash        0      0     0     0     0     0  \n",
      "rock         0      0     0     0     0     0  \n",
      "teft         0      0     0     0     0     0  \n",
      "lift         0      0     0     0     0     0  \n",
      "cenn         0      0     0     0     0     0  \n"
     ]
    }
   ],
   "source": [
    "#co mention matrix\n",
    "co_mentions = pd.DataFrame(0, index=characters, columns=characters)\n",
    "\n",
    "# Fill the matrix\n",
    "for summary in df['Clean_Summary']:\n",
    "    mentioned = [char for char in characters if re.search(\n",
    "        r'\\b' + char + r'\\b', summary)]\n",
    "    for i in range(len(mentioned)):\n",
    "        for j in range(i + 1, len(mentioned)):\n",
    "            co_mentions.loc[mentioned[i], mentioned[j]] += 1\n",
    "            co_mentions.loc[mentioned[j], mentioned[i]] += 1\n",
    "\n",
    "print(co_mentions)"
   ]
  },
  {
   "cell_type": "code",
   "execution_count": null,
   "id": "1ca9ece9",
   "metadata": {},
   "outputs": [
    {
     "data": {
      "image/png": "[encoded data removed]",
      "text/plain": [
       "<Figure size 1000x1000 with 1 Axes>"
      ]
     },
     "metadata": {},
     "output_type": "display_data"
    }
   ],
   "source": [
    "# Create the graph\n",
    "G = nx.Graph()\n",
    "\n",
    "# Add edges (only if co-mention count > 0)\n",
    "for char1 in co_mentions.index:\n",
    "    for char2 in co_mentions.columns:\n",
    "        weight = co_mentions.loc[char1, char2]\n",
    "        if char1 != char2 and weight > 0:\n",
    "            G.add_edge(char1, char2, weight=weight)\n",
    "\n",
    "# Set positions for nodes\n",
    "pos = nx.spring_layout(G, seed=42)  # \"spring\" layout spaces them naturally\n",
    "\n",
    "# Draw the graph\n",
    "plt.figure(figsize=(10, 10))\n",
    "edges = G.edges(data=True)\n",
    "weights = [edata['weight'] for _, _, edata in edges]\n",
    "\n",
    "# Draw nodes\n",
    "nx.draw_networkx_nodes(G, pos, node_size=1000, node_color='lightblue')\n",
    "\n",
    "# Draw edges with thickness based on weight\n",
    "nx.draw_networkx_edges(\n",
    "    G, pos, width=[w * 0.5 for w in weights], edge_color='gray')\n",
    "\n",
    "# Add labels\n",
    "nx.draw_networkx_labels(G, pos, font_size=12, font_family='sans-serif')\n",
    "\n",
    "plt.title(\"Character Co-Mention Network — Coppermind chapter summary 1-5\")\n",
    "plt.axis('off')\n",
    "plt.show()"
   ]
  }
 ],
 "metadata": {
  "kernelspec": {
   "display_name": "Python 3",
   "language": "python",
   "name": "python3"
  },
  "language_info": {
   "codemirror_mode": {
    "name": "ipython",
    "version": 3
   },
   "file_extension": ".py",
   "mimetype": "text/x-python",
   "name": "python",
   "nbconvert_exporter": "python",
   "pygments_lexer": "ipython3",
   "version": "3.13.0"
  }
 },
 "nbformat": 4,
 "nbformat_minor": 5
}
